{
 "cells": [
  {
   "cell_type": "code",
   "execution_count": 1,
   "metadata": {},
   "outputs": [
    {
     "name": "stdout",
     "output_type": "stream",
     "text": [
      "True\n"
     ]
    }
   ],
   "source": [
    "#Q - Question 1\n",
    "\n",
    "'''Given an integer `n`, return *`true` if it is a power of three. Otherwise, return `false`*.\n",
    "An integer `n` is a power of three, if there exists an integer `x` such that `n == 3x`.\n",
    "\n",
    "**Example 1:**\n",
    "Input: n = 27\n",
    "Output: true\n",
    "Explanation: 27 = 33 ''' \n",
    "#Answer:\n",
    "import math\n",
    "\n",
    "def isPowerOfThree(n):\n",
    "    if n <= 0:\n",
    "        return False\n",
    "    x = math.log10(n) / math.log10(3)\n",
    "    return x.is_integer()\n",
    "\n",
    "# Test the function\n",
    "n = 27\n",
    "result = isPowerOfThree(n)\n",
    "print(result)"
   ]
  },
  {
   "cell_type": "code",
   "execution_count": 3,
   "metadata": {},
   "outputs": [
    {
     "name": "stdout",
     "output_type": "stream",
     "text": [
      "6\n"
     ]
    }
   ],
   "source": [
    "#Q - Question 2\n",
    "\n",
    "'''You have a list `arr` of all integers in the range `[1, n]` sorted in a strictly increasing order. Apply the following algorithm on `arr`:\n",
    "\n",
    "- Starting from left to right, remove the first number and every other number afterward until you reach the end of the list.\n",
    "- Repeat the previous step again, but this time from right to left, remove the rightmost number and every other number from the remaining numbers.\n",
    "- Keep repeating the steps again, alternating left to right and right to left, until a single number remains.\n",
    "\n",
    "Given the integer `n`, return *the last number that remains in* `arr`.\n",
    "\n",
    "**Example 1:**\n",
    "Input: n = 9\n",
    "Output: 6\n",
    "Explanation:\n",
    "arr = [1, 2,3, 4,5, 6,7, 8,9]\n",
    "arr = [2,4, 6,8]\n",
    "arr = [2, 6]\n",
    "arr = [6] '''\n",
    "#Answer:\n",
    "\n",
    "def lastRemaining(n):\n",
    "    left_to_right = True\n",
    "    remaining = n\n",
    "    step = 1\n",
    "    head = 1\n",
    "\n",
    "    while remaining > 1:\n",
    "        if left_to_right or remaining % 2 == 1:\n",
    "            head += step\n",
    "        remaining //= 2\n",
    "        step *= 2\n",
    "        left_to_right = not left_to_right\n",
    "\n",
    "    return head\n",
    "\n",
    "# Test the function\n",
    "n = 9\n",
    "result = lastRemaining(n)\n",
    "print(result)\n",
    "\n"
   ]
  },
  {
   "cell_type": "code",
   "execution_count": 5,
   "metadata": {},
   "outputs": [
    {
     "name": "stdout",
     "output_type": "stream",
     "text": [
      "\n",
      "a\n",
      "ab\n",
      "abc\n",
      "ac\n",
      "b\n",
      "bc\n",
      "c\n"
     ]
    }
   ],
   "source": [
    "#Q - Question 3\n",
    "\n",
    "'''Given a set represented as a string, write a recursive code to print all subsets of it. The subsets can be printed in any order.\n",
    "\n",
    "**Example 1:**\n",
    "\n",
    "Input :  set = “abc” '''\n",
    "#Answer:\n",
    "def printSubsets(set):\n",
    "    def backtrack(subset, index):\n",
    "        print(''.join(subset))\n",
    "\n",
    "        for i in range(index, len(set)):\n",
    "            subset.append(set[i])\n",
    "            backtrack(subset, i + 1)\n",
    "            subset.pop()\n",
    "\n",
    "    backtrack([], 0)\n",
    "\n",
    "# Test the function\n",
    "set = \"abc\"\n",
    "printSubsets(set)\n"
   ]
  },
  {
   "cell_type": "code",
   "execution_count": 6,
   "metadata": {},
   "outputs": [
    {
     "name": "stdout",
     "output_type": "stream",
     "text": [
      "Length of abcd : 4\n",
      "Length of GEEKSFORGEEKS : 13\n"
     ]
    }
   ],
   "source": [
    "#Q - Question 4\n",
    "\n",
    "'''Given a string calculate length of the string using recursion.\n",
    "\n",
    "**Examples:**\n",
    "Input : str = \"abcd\"\n",
    "Output :4\n",
    "\n",
    "Input : str = \"GEEKSFORGEEKS\"\n",
    "Output :13 '''\n",
    "\n",
    "#Answer:\n",
    "def stringLength(string):\n",
    "    if string == '':\n",
    "        return 0\n",
    "    else:\n",
    "        return 1 + stringLength(string[1:])\n",
    "\n",
    "# Test the function\n",
    "str1 = \"abcd\"\n",
    "print(\"Length of\", str1, \":\", stringLength(str1))\n",
    "\n",
    "str2 = \"GEEKSFORGEEKS\"\n",
    "print(\"Length of\", str2, \":\", stringLength(str2))\n"
   ]
  },
  {
   "cell_type": "code",
   "execution_count": 8,
   "metadata": {},
   "outputs": [
    {
     "name": "stdout",
     "output_type": "stream",
     "text": [
      "Count of substrings in abcab : 5\n",
      "Count of substrings in aba : 4\n"
     ]
    }
   ],
   "source": [
    "#Q - Question 5\n",
    "'''We are given a string S, we need to find count of all contiguous substrings starting and ending with same character.\n",
    "\n",
    "**Examples :**\n",
    "Input  : S = \"abcab\"\n",
    "Output : 7\n",
    "There are 15 substrings of \"abcab\"\n",
    "a, ab, abc, abca, abcab, b, bc, bca\n",
    "bcab, c, ca, cab, a, ab, b\n",
    "Out of the above substrings, there\n",
    "are 7 substrings : a, abca, b, bcab,\n",
    "c, a and b.\n",
    "\n",
    "Input  : S = \"aba\"\n",
    "Output : 4\n",
    "The substrings are a, b, a and aba ''' \n",
    "\n",
    "#Answer:\n",
    "def countSubstrings(s):\n",
    "    count = 0\n",
    "    n = len(s)\n",
    "\n",
    "    # Iterate through each character in the string\n",
    "    for i in range(n):\n",
    "        # Count the current character as a substring\n",
    "        count += 1\n",
    "\n",
    "        # Expand from the current character to find more substrings\n",
    "        j = 1\n",
    "        while i - j >= 0 and i + j < n:\n",
    "            if s[i - j] == s[i + j]:\n",
    "                # Count the substring if it starts and ends with the same character\n",
    "                count += 1\n",
    "            else:\n",
    "                # Break the loop if the characters don't match\n",
    "                break\n",
    "            j += 1\n",
    "\n",
    "    return count\n",
    "\n",
    "# Test the function\n",
    "S1 = \"abcab\"\n",
    "print(\"Count of substrings in\", S1, \":\", countSubstrings(S1))\n",
    "\n",
    "S2 = \"aba\"\n",
    "print(\"Count of substrings in\", S2, \":\", countSubstrings(S2))\n"
   ]
  },
  {
   "cell_type": "code",
   "execution_count": 9,
   "metadata": {},
   "outputs": [
    {
     "name": "stdout",
     "output_type": "stream",
     "text": [
      "Move disk 1 from rod 1 to rod 2\n",
      "Move disk 2 from rod 1 to rod 3\n",
      "Move disk 1 from rod 2 to rod 3\n",
      "Total moves: 3\n"
     ]
    }
   ],
   "source": [
    "#Q - Question 6\n",
    "\n",
    "'''The [tower of Hanoi](https://en.wikipedia.org/wiki/Tower_of_Hanoi) is a famous puzzle where we have three rods and **N** disks. The objective of the puzzle is to move the entire stack to another rod. You are given the number of discs **N**. Initially, these discs are in the rod 1. You need to print all the steps of discs movement so that all the discs reach the 3rd rod. Also, you need to find the total moves.**Note:** The discs are arranged such that the **top disc is numbered 1** and the **bottom-most disc is numbered N**. Also, all the discs have **different sizes** and a bigger disc **cannot** be put on the top of a smaller disc. Refer the provided link to get a better clarity about the puzzle.\n",
    "\n",
    "**Example 1:**\n",
    "Input:\n",
    "N = 2\n",
    "Output:\n",
    "move disk 1 from rod 1 to rod 2\n",
    "move disk 2 from rod 1 to rod 3\n",
    "move disk 1 from rod 2 to rod 3\n",
    "3\n",
    "Explanation:For N=2 , steps will be\n",
    "as follows in the example and total\n",
    "3 steps will be taken. ''' \n",
    "\n",
    "#Answer:\n",
    "def towerOfHanoi(n, source, destination, auxiliary):\n",
    "    if n == 1:\n",
    "        # Base case: Move the top disk from source to destination\n",
    "        print(\"Move disk 1 from rod\", source, \"to rod\", destination)\n",
    "        return 1\n",
    "    else:\n",
    "        # Move n-1 disks from source to auxiliary rod\n",
    "        count1 = towerOfHanoi(n-1, source, auxiliary, destination)\n",
    "\n",
    "        # Move the nth disk from source to destination rod\n",
    "        print(\"Move disk\", n, \"from rod\", source, \"to rod\", destination)\n",
    "        \n",
    "        # Move the n-1 disks from auxiliary to destination rod\n",
    "        count2 = towerOfHanoi(n-1, auxiliary, destination, source)\n",
    "\n",
    "        # Calculate the total number of moves\n",
    "        return 1 + count1 + count2\n",
    "\n",
    "# Test the function\n",
    "N = 2\n",
    "print(\"Total moves:\", towerOfHanoi(N, 1, 3, 2))"
   ]
  },
  {
   "cell_type": "code",
   "execution_count": 10,
   "metadata": {},
   "outputs": [
    {
     "name": "stdout",
     "output_type": "stream",
     "text": [
      "abb\n",
      "abb\n",
      "bab\n",
      "bba\n",
      "bab\n",
      "bba\n"
     ]
    }
   ],
   "source": [
    "#Q - Question 7\n",
    "\n",
    "'''Given a string **str**, the task is to print all the permutations of **str**. A **permutation** is an arrangement of all or part of a set of objects, with regard to the order of the arrangement. For instance, the words ‘bat’ and ‘tab’ represents two distinct permutation (or arrangements) of a similar three letter word.\n",
    "\n",
    "**Examples:**\n",
    "\n",
    "> Input: str = “cd”\n",
    "> \n",
    "> \n",
    "> **Output:** cd dc\n",
    "> \n",
    "> **Input:** str = “abb”\n",
    "> \n",
    "> **Output:** abb abb bab bba bab bba\n",
    "> '''\n",
    "#Answer:\n",
    "from itertools import permutations\n",
    "\n",
    "str = \"abb\"\n",
    "perms = permutations(str)\n",
    "\n",
    "for perm in perms:\n",
    "    print(\"\".join(perm))\n"
   ]
  },
  {
   "cell_type": "code",
   "execution_count": 12,
   "metadata": {},
   "outputs": [
    {
     "name": "stdout",
     "output_type": "stream",
     "text": [
      "3\n",
      "12\n"
     ]
    }
   ],
   "source": [
    "#Q - Question 8\n",
    "\n",
    "'''Given a string, count total number of consonants in it. A consonant is an English alphabet character that is not vowel (a, e, i, o and u). Examples of constants are b, c, d, f, and g.\n",
    "\n",
    "**Examples :**\n",
    "Input : abc de\n",
    "Output : 3\n",
    "There are three consonants b, c and d.\n",
    "\n",
    "Input : geeksforgeeks portal\n",
    "Output : 12'''\n",
    "\n",
    "#Answer:\n",
    "def count_consonants(s):\n",
    "    consonants = \"bcdfghjklmnpqrstvwxyz\"\n",
    "    count = 0\n",
    "\n",
    "    for char in s:\n",
    "        if char.lower() in consonants:\n",
    "            count += 1\n",
    "\n",
    "    return count\n",
    "\n",
    "# Example usage\n",
    "s1 = \"abc de\"\n",
    "print(count_consonants(s1))\n",
    "\n",
    "s2 = \"geeksforgeeks portal\"\n",
    "print(count_consonants(s2))\n"
   ]
  },
  {
   "cell_type": "code",
   "execution_count": null,
   "metadata": {},
   "outputs": [],
   "source": []
  }
 ],
 "metadata": {
  "kernelspec": {
   "display_name": "Python 3.9.6 64-bit",
   "language": "python",
   "name": "python3"
  },
  "language_info": {
   "codemirror_mode": {
    "name": "ipython",
    "version": 3
   },
   "file_extension": ".py",
   "mimetype": "text/x-python",
   "name": "python",
   "nbconvert_exporter": "python",
   "pygments_lexer": "ipython3",
   "version": "3.9.6"
  },
  "orig_nbformat": 4,
  "vscode": {
   "interpreter": {
    "hash": "31f2aee4e71d21fbe5cf8b01ff0e069b9275f58929596ceb00d14d90e3e16cd6"
   }
  }
 },
 "nbformat": 4,
 "nbformat_minor": 2
}
